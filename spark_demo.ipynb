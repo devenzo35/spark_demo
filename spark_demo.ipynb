{
  "nbformat": 4,
  "nbformat_minor": 0,
  "metadata": {
    "colab": {
      "provenance": [],
      "authorship_tag": "ABX9TyPtKWDmudrb9p4NhLp+WyNu",
      "include_colab_link": true
    },
    "kernelspec": {
      "name": "python3",
      "display_name": "Python 3"
    },
    "language_info": {
      "name": "python"
    }
  },
  "cells": [
    {
      "cell_type": "markdown",
      "metadata": {
        "id": "view-in-github",
        "colab_type": "text"
      },
      "source": [
        "<a href=\"https://colab.research.google.com/github/devenzo35/spark_demo/blob/main/spark_demo.ipynb\" target=\"_parent\"><img src=\"https://colab.research.google.com/assets/colab-badge.svg\" alt=\"Open In Colab\"/></a>"
      ]
    },
    {
      "cell_type": "code",
      "execution_count": 7,
      "metadata": {
        "colab": {
          "base_uri": "https://localhost:8080/"
        },
        "id": "P1ERqcOXncko",
        "outputId": "69d0a0a1-4e3c-4fc3-ded0-a27e7fb0b772"
      },
      "outputs": [
        {
          "output_type": "stream",
          "name": "stdout",
          "text": [
            "Requirement already satisfied: pyspark in /usr/local/lib/python3.11/dist-packages (3.5.5)\n",
            "Requirement already satisfied: py4j==0.10.9.7 in /usr/local/lib/python3.11/dist-packages (from pyspark) (0.10.9.7)\n"
          ]
        }
      ],
      "source": [
        "!pip install pyspark"
      ]
    },
    {
      "cell_type": "markdown",
      "source": [
        "# Create Spark Session"
      ],
      "metadata": {
        "id": "qE25Tgt_trY8"
      }
    },
    {
      "cell_type": "code",
      "source": [
        "from pyspark.sql import  SparkSession\n",
        "from pyspark import SparkContext\n",
        "\n",
        "spSession = SparkSession.builder.appName('Demo Spark').getOrCreate()\n",
        "spContext = spSession.sparkContext\n"
      ],
      "metadata": {
        "id": "HFW94qGJpUUn"
      },
      "execution_count": 8,
      "outputs": []
    },
    {
      "cell_type": "markdown",
      "source": [
        "# Data load"
      ],
      "metadata": {
        "id": "vNGmeT3FvN9B"
      }
    },
    {
      "cell_type": "code",
      "source": [
        "data = spSession.read.csv('/cars.csv', header=True, sep=';')\n",
        "data.show(5)"
      ],
      "metadata": {
        "colab": {
          "base_uri": "https://localhost:8080/"
        },
        "id": "h5tqjsb7prse",
        "outputId": "583a2153-d1f7-44db-a610-ff6de891ba27"
      },
      "execution_count": 9,
      "outputs": [
        {
          "output_type": "stream",
          "name": "stdout",
          "text": [
            "+--------------------+------+---------+------------+----------+------+------------+-----+------+\n",
            "|                 Car|   MPG|Cylinders|Displacement|Horsepower|Weight|Acceleration|Model|Origin|\n",
            "+--------------------+------+---------+------------+----------+------+------------+-----+------+\n",
            "|              STRING|DOUBLE|      INT|      DOUBLE|    DOUBLE|DOUBLE|      DOUBLE|  INT|   CAT|\n",
            "|Chevrolet Chevell...|  18.0|        8|       307.0|     130.0| 3504.|        12.0|   70|    US|\n",
            "|   Buick Skylark 320|  15.0|        8|       350.0|     165.0| 3693.|        11.5|   70|    US|\n",
            "|  Plymouth Satellite|  18.0|        8|       318.0|     150.0| 3436.|        11.0|   70|    US|\n",
            "|       AMC Rebel SST|  16.0|        8|       304.0|     150.0| 3433.|        12.0|   70|    US|\n",
            "+--------------------+------+---------+------------+----------+------+------------+-----+------+\n",
            "only showing top 5 rows\n",
            "\n"
          ]
        }
      ]
    },
    {
      "cell_type": "markdown",
      "source": [
        "# Analysis functions"
      ],
      "metadata": {
        "id": "psCMAdAuvRYJ"
      }
    },
    {
      "cell_type": "code",
      "source": [
        "data.columns"
      ],
      "metadata": {
        "colab": {
          "base_uri": "https://localhost:8080/"
        },
        "id": "zBi17CrovUS_",
        "outputId": "3e24dbf4-4a55-45b1-a1b5-b802c6784356"
      },
      "execution_count": 10,
      "outputs": [
        {
          "output_type": "execute_result",
          "data": {
            "text/plain": [
              "['Car',\n",
              " 'MPG',\n",
              " 'Cylinders',\n",
              " 'Displacement',\n",
              " 'Horsepower',\n",
              " 'Weight',\n",
              " 'Acceleration',\n",
              " 'Model',\n",
              " 'Origin']"
            ]
          },
          "metadata": {},
          "execution_count": 10
        }
      ]
    },
    {
      "cell_type": "code",
      "source": [
        "data.printSchema()"
      ],
      "metadata": {
        "colab": {
          "base_uri": "https://localhost:8080/"
        },
        "id": "8ZzvvPu_yPpg",
        "outputId": "dfd0c359-44c5-4295-9ab1-844b5a4f44fa"
      },
      "execution_count": 11,
      "outputs": [
        {
          "output_type": "stream",
          "name": "stdout",
          "text": [
            "root\n",
            " |-- Car: string (nullable = true)\n",
            " |-- MPG: string (nullable = true)\n",
            " |-- Cylinders: string (nullable = true)\n",
            " |-- Displacement: string (nullable = true)\n",
            " |-- Horsepower: string (nullable = true)\n",
            " |-- Weight: string (nullable = true)\n",
            " |-- Acceleration: string (nullable = true)\n",
            " |-- Model: string (nullable = true)\n",
            " |-- Origin: string (nullable = true)\n",
            "\n"
          ]
        }
      ]
    },
    {
      "cell_type": "markdown",
      "source": [
        "# Select data"
      ],
      "metadata": {
        "id": "vS5f4rtkvU0q"
      }
    },
    {
      "cell_type": "code",
      "source": [
        "from os import truncate\n",
        "data.select('Car').show(truncate=False)"
      ],
      "metadata": {
        "colab": {
          "base_uri": "https://localhost:8080/"
        },
        "id": "w2RJOASWyI9i",
        "outputId": "fbda2840-37cb-415b-a7c8-6ca32479d1a1"
      },
      "execution_count": 12,
      "outputs": [
        {
          "output_type": "stream",
          "name": "stdout",
          "text": [
            "+--------------------------------+\n",
            "|Car                             |\n",
            "+--------------------------------+\n",
            "|STRING                          |\n",
            "|Chevrolet Chevelle Malibu       |\n",
            "|Buick Skylark 320               |\n",
            "|Plymouth Satellite              |\n",
            "|AMC Rebel SST                   |\n",
            "|Ford Torino                     |\n",
            "|Ford Galaxie 500                |\n",
            "|Chevrolet Impala                |\n",
            "|Plymouth Fury iii               |\n",
            "|Pontiac Catalina                |\n",
            "|AMC Ambassador DPL              |\n",
            "|Citroen DS-21 Pallas            |\n",
            "|Chevrolet Chevelle Concours (sw)|\n",
            "|Ford Torino (sw)                |\n",
            "|Plymouth Satellite (sw)         |\n",
            "|AMC Rebel SST (sw)              |\n",
            "|Dodge Challenger SE             |\n",
            "|Plymouth 'Cuda 340              |\n",
            "|Ford Mustang Boss 302           |\n",
            "|Chevrolet Monte Carlo           |\n",
            "+--------------------------------+\n",
            "only showing top 20 rows\n",
            "\n"
          ]
        }
      ]
    },
    {
      "cell_type": "code",
      "source": [
        "data.select(data['car']).show(truncate=False)"
      ],
      "metadata": {
        "colab": {
          "base_uri": "https://localhost:8080/"
        },
        "id": "P_MEd9_SzRh8",
        "outputId": "05402e08-d74d-469a-c40c-ea05fe655fe9"
      },
      "execution_count": 13,
      "outputs": [
        {
          "output_type": "stream",
          "name": "stdout",
          "text": [
            "+--------------------------------+\n",
            "|car                             |\n",
            "+--------------------------------+\n",
            "|STRING                          |\n",
            "|Chevrolet Chevelle Malibu       |\n",
            "|Buick Skylark 320               |\n",
            "|Plymouth Satellite              |\n",
            "|AMC Rebel SST                   |\n",
            "|Ford Torino                     |\n",
            "|Ford Galaxie 500                |\n",
            "|Chevrolet Impala                |\n",
            "|Plymouth Fury iii               |\n",
            "|Pontiac Catalina                |\n",
            "|AMC Ambassador DPL              |\n",
            "|Citroen DS-21 Pallas            |\n",
            "|Chevrolet Chevelle Concours (sw)|\n",
            "|Ford Torino (sw)                |\n",
            "|Plymouth Satellite (sw)         |\n",
            "|AMC Rebel SST (sw)              |\n",
            "|Dodge Challenger SE             |\n",
            "|Plymouth 'Cuda 340              |\n",
            "|Ford Mustang Boss 302           |\n",
            "|Chevrolet Monte Carlo           |\n",
            "+--------------------------------+\n",
            "only showing top 20 rows\n",
            "\n"
          ]
        }
      ]
    },
    {
      "cell_type": "code",
      "source": [
        "data.select(data['car'], data['cylinders']).groupBy('cylinders').count().show(truncate=False)"
      ],
      "metadata": {
        "colab": {
          "base_uri": "https://localhost:8080/"
        },
        "id": "7YTsgcq7z2yS",
        "outputId": "aae1b19c-e3c3-4fbb-ee9c-36bc2754424a"
      },
      "execution_count": 15,
      "outputs": [
        {
          "output_type": "stream",
          "name": "stdout",
          "text": [
            "+---------+-----+\n",
            "|cylinders|count|\n",
            "+---------+-----+\n",
            "|3        |4    |\n",
            "|8        |108  |\n",
            "|5        |3    |\n",
            "|6        |84   |\n",
            "|INT      |1    |\n",
            "|4        |207  |\n",
            "+---------+-----+\n",
            "\n"
          ]
        }
      ]
    },
    {
      "cell_type": "markdown",
      "source": [
        "# Add columns"
      ],
      "metadata": {
        "id": "3qNQuBUV6W8u"
      }
    },
    {
      "cell_type": "code",
      "source": [
        "from pyspark.sql.functions import lit\n",
        "\n",
        "df = data.withColumn('first_column', lit(1)).withColumn('second_Column', lit('first_colummn'))\n",
        "df.show(10)\n"
      ],
      "metadata": {
        "colab": {
          "base_uri": "https://localhost:8080/"
        },
        "id": "rZWqix2B6VEW",
        "outputId": "3c2bc242-0832-4530-afbf-b2b1eeb43813"
      },
      "execution_count": 23,
      "outputs": [
        {
          "output_type": "stream",
          "name": "stdout",
          "text": [
            "+--------------------+------+---------+------------+----------+------+------------+-----+------+------------+-------------+\n",
            "|                 Car|   MPG|Cylinders|Displacement|Horsepower|Weight|Acceleration|Model|Origin|first_column|second_Column|\n",
            "+--------------------+------+---------+------------+----------+------+------------+-----+------+------------+-------------+\n",
            "|              STRING|DOUBLE|      INT|      DOUBLE|    DOUBLE|DOUBLE|      DOUBLE|  INT|   CAT|           1|first_colummn|\n",
            "|Chevrolet Chevell...|  18.0|        8|       307.0|     130.0| 3504.|        12.0|   70|    US|           1|first_colummn|\n",
            "|   Buick Skylark 320|  15.0|        8|       350.0|     165.0| 3693.|        11.5|   70|    US|           1|first_colummn|\n",
            "|  Plymouth Satellite|  18.0|        8|       318.0|     150.0| 3436.|        11.0|   70|    US|           1|first_colummn|\n",
            "|       AMC Rebel SST|  16.0|        8|       304.0|     150.0| 3433.|        12.0|   70|    US|           1|first_colummn|\n",
            "|         Ford Torino|  17.0|        8|       302.0|     140.0| 3449.|        10.5|   70|    US|           1|first_colummn|\n",
            "|    Ford Galaxie 500|  15.0|        8|       429.0|     198.0| 4341.|        10.0|   70|    US|           1|first_colummn|\n",
            "|    Chevrolet Impala|  14.0|        8|       454.0|     220.0| 4354.|         9.0|   70|    US|           1|first_colummn|\n",
            "|   Plymouth Fury iii|  14.0|        8|       440.0|     215.0| 4312.|         8.5|   70|    US|           1|first_colummn|\n",
            "|    Pontiac Catalina|  14.0|        8|       455.0|     225.0| 4425.|        10.0|   70|    US|           1|first_colummn|\n",
            "+--------------------+------+---------+------------+----------+------+------------+-----+------+------------+-------------+\n",
            "only showing top 10 rows\n",
            "\n"
          ]
        }
      ]
    },
    {
      "cell_type": "code",
      "source": [
        "# Delete columns"
      ],
      "metadata": {
        "id": "NzxIBkto7gRY"
      },
      "execution_count": 21,
      "outputs": []
    },
    {
      "cell_type": "code",
      "source": [
        "df = df.drop('first_column')\n"
      ],
      "metadata": {
        "id": "CG3vXu-x7jhH"
      },
      "execution_count": 27,
      "outputs": []
    },
    {
      "cell_type": "code",
      "source": [
        "df.show(10, truncate=False)"
      ],
      "metadata": {
        "colab": {
          "base_uri": "https://localhost:8080/"
        },
        "id": "AfiSW_oC77At",
        "outputId": "8014cbdb-371e-4e63-af05-7604dc0ca9b2"
      },
      "execution_count": 29,
      "outputs": [
        {
          "output_type": "stream",
          "name": "stdout",
          "text": [
            "+-------------------------+------+---------+------------+----------+------+------------+-----+------+-------------+\n",
            "|Car                      |MPG   |Cylinders|Displacement|Horsepower|Weight|Acceleration|Model|Origin|second_Column|\n",
            "+-------------------------+------+---------+------------+----------+------+------------+-----+------+-------------+\n",
            "|STRING                   |DOUBLE|INT      |DOUBLE      |DOUBLE    |DOUBLE|DOUBLE      |INT  |CAT   |first_colummn|\n",
            "|Chevrolet Chevelle Malibu|18.0  |8        |307.0       |130.0     |3504. |12.0        |70   |US    |first_colummn|\n",
            "|Buick Skylark 320        |15.0  |8        |350.0       |165.0     |3693. |11.5        |70   |US    |first_colummn|\n",
            "|Plymouth Satellite       |18.0  |8        |318.0       |150.0     |3436. |11.0        |70   |US    |first_colummn|\n",
            "|AMC Rebel SST            |16.0  |8        |304.0       |150.0     |3433. |12.0        |70   |US    |first_colummn|\n",
            "|Ford Torino              |17.0  |8        |302.0       |140.0     |3449. |10.5        |70   |US    |first_colummn|\n",
            "|Ford Galaxie 500         |15.0  |8        |429.0       |198.0     |4341. |10.0        |70   |US    |first_colummn|\n",
            "|Chevrolet Impala         |14.0  |8        |454.0       |220.0     |4354. |9.0         |70   |US    |first_colummn|\n",
            "|Plymouth Fury iii        |14.0  |8        |440.0       |215.0     |4312. |8.5         |70   |US    |first_colummn|\n",
            "|Pontiac Catalina         |14.0  |8        |455.0       |225.0     |4425. |10.0        |70   |US    |first_colummn|\n",
            "+-------------------------+------+---------+------------+----------+------+------------+-----+------+-------------+\n",
            "only showing top 10 rows\n",
            "\n"
          ]
        }
      ]
    },
    {
      "cell_type": "markdown",
      "source": [
        "# Group columns"
      ],
      "metadata": {
        "id": "bxWMcbCf8xnv"
      }
    },
    {
      "cell_type": "code",
      "source": [
        "top_five_power=df.orderBy('Horsepower', ascending=False).show(5)"
      ],
      "metadata": {
        "colab": {
          "base_uri": "https://localhost:8080/"
        },
        "id": "aa8VsM4E8w_-",
        "outputId": "183dff99-100a-4a48-e430-b80b856fe621"
      },
      "execution_count": 41,
      "outputs": [
        {
          "output_type": "stream",
          "name": "stdout",
          "text": [
            "+------------+------+---------+------------+----------+------+------------+-----+------+-------------+\n",
            "|         Car|   MPG|Cylinders|Displacement|Horsepower|Weight|Acceleration|Model|Origin|second_Column|\n",
            "+------------+------+---------+------------+----------+------+------------+-----+------+-------------+\n",
            "|      STRING|DOUBLE|      INT|      DOUBLE|    DOUBLE|DOUBLE|      DOUBLE|  INT|   CAT|first_colummn|\n",
            "| Volvo 244DL|  22.0|        4|       121.0|     98.00| 2945.|        14.5|   75|Europe|first_colummn|\n",
            "|Ford Grenada|  18.5|        6|       250.0|     98.00| 3525.|        19.0|   77|    US|first_colummn|\n",
            "|  Datsun 710|  24.0|        4|       119.0|     97.00| 2545.|        17.0|   75| Japan|first_colummn|\n",
            "|  AMC Hornet|  18.0|        6|       199.0|     97.00| 2774.|        15.5|   70|    US|first_colummn|\n",
            "+------------+------+---------+------------+----------+------+------------+-----+------+-------------+\n",
            "only showing top 5 rows\n",
            "\n"
          ]
        }
      ]
    },
    {
      "cell_type": "code",
      "source": [
        "country_leader=df.groupBy('origin').count().orderBy('count', ascending=False).show(1)"
      ],
      "metadata": {
        "colab": {
          "base_uri": "https://localhost:8080/"
        },
        "id": "Duvk0vmj_Kpu",
        "outputId": "37a17ef5-d641-44ad-d0e2-15f3822f3cb0"
      },
      "execution_count": 47,
      "outputs": [
        {
          "output_type": "stream",
          "name": "stdout",
          "text": [
            "+------+-----+\n",
            "|origin|count|\n",
            "+------+-----+\n",
            "|    US|  254|\n",
            "+------+-----+\n",
            "only showing top 1 row\n",
            "\n"
          ]
        }
      ]
    },
    {
      "cell_type": "markdown",
      "source": [
        "# Filtering columns"
      ],
      "metadata": {
        "id": "ne8jw-iS83Sk"
      }
    },
    {
      "cell_type": "code",
      "source": [
        "europe_production= df.filter((df['origin']=='Europe')&(df['horsepower']==115.0)).count()\n",
        "print(europe_production)"
      ],
      "metadata": {
        "colab": {
          "base_uri": "https://localhost:8080/"
        },
        "id": "7jdjeoMA85Rk",
        "outputId": "3dd8e3c9-18fd-4958-fe63-fcabe881838d"
      },
      "execution_count": 54,
      "outputs": [
        {
          "output_type": "stream",
          "name": "stdout",
          "text": [
            "3\n"
          ]
        }
      ]
    }
  ]
}